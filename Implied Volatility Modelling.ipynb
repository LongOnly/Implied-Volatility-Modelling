{
 "cells": [
  {
   "cell_type": "code",
   "execution_count": 1,
   "metadata": {},
   "outputs": [],
   "source": [
    "# Python 3.7\n",
    "# author: Leonardo Filipe\n",
    "# website: https://www.leonardofilipe.com\n",
    "# contact: contact[at]leonardofilipe.com\n",
    "%matplotlib notebook\n",
    "import numpy as np\n",
    "import pandas as pd\n",
    "import matplotlib.pyplot as plt\n",
    "from matplotlib import cm\n",
    "from mpl_toolkits.mplot3d import axes3d\n",
    "\n",
    "plt.style.use('seaborn')\n",
    "pd.options.mode.chained_assignment = None\n",
    "\n",
    "db = pd.read_hdf(\"optiondata.h5\")\n",
    "db = db.drop('index',axis=1)\n",
    "db['Now'] = pd.to_datetime(db['Now'])\n",
    "db['Maturity'] = pd.to_datetime(db['Maturity'])"
   ]
  },
  {
   "cell_type": "code",
   "execution_count": null,
   "metadata": {},
   "outputs": [],
   "source": []
  }
 ],
 "metadata": {
  "kernelspec": {
   "display_name": "Python 3",
   "language": "python",
   "name": "python3"
  },
  "language_info": {
   "codemirror_mode": {
    "name": "ipython",
    "version": 3
   },
   "file_extension": ".py",
   "mimetype": "text/x-python",
   "name": "python",
   "nbconvert_exporter": "python",
   "pygments_lexer": "ipython3",
   "version": "3.7.0"
  }
 },
 "nbformat": 4,
 "nbformat_minor": 2
}
