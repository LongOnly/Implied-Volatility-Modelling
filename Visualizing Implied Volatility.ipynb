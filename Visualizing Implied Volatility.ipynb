{
 "cells": [
  {
   "cell_type": "code",
   "execution_count": null,
   "metadata": {},
   "outputs": [],
   "source": [
    "# Python 3.7\n",
    "# author: Leonardo Filipe\n",
    "# website: https://www.leonardofilipe.com\n",
    "# contact: contact[at]leonardofilipe.com\n",
    "# batch implied volatility calculation: https://github.com/jasonstrimpel\n",
    "%matplotlib notebook\n",
    "import scipy\n",
    "import numpy as np\n",
    "import pandas as pd\n",
    "import matplotlib.pyplot as plt\n",
    "from matplotlib import cm\n",
    "from scipy.stats import norm\n",
    "from scipy.optimize import brentq\n",
    "from mpl_toolkits.mplot3d import axes3d\n",
    "\n",
    "plt.style.use('seaborn')\n",
    "pd.options.mode.chained_assignment = None\n",
    "\n",
    "def N(z):\n",
    "    return norm.cdf(z)\n",
    "\n",
    "def black_scholes_call_value(S, K, r, t, vol):\n",
    "    d1 = (1.0/(vol * np.sqrt(t))) * (np.log(S/K) + (r + 0.5 * vol**2.0) * t)\n",
    "    d2 = d1 - (vol * np.sqrt(t))\n",
    "    return N(d1) * S - N(d2) * K * np.exp(-r * t)\n",
    "\n",
    "def black_scholes_put_value(S, K, r, t, vol):\n",
    "    d1 = (1.0/(vol * np.sqrt(t))) * (np.log(S/K) + (r + 0.5 * vol**2.0) * t)\n",
    "    d2 = d1 - (vol * np.sqrt(t))\n",
    "    return N(-d2) * K * np.exp(-r * t) - N(-d1) * S\n",
    "\n",
    "def call_implied_volatility_objective_function(S, K, r, t, vol, call_option_market_price):\n",
    "    return call_option_market_price - black_scholes_call_value(S, K, r, t, vol)\n",
    "\n",
    "def call_implied_volatility(S, K, r, t, call_option_market_price, a=-2.0, b=2.0, xtol=1e-6):\n",
    "    _S, _K, _r, _t, _call_option_market_price = S, K, r, t, call_option_market_price\n",
    "    def fcn(vol):\n",
    "        return call_implied_volatility_objective_function(_S, _K, _r, _t, vol, _call_option_market_price)\n",
    "    try:\n",
    "        result = brentq(fcn, a=a, b=b, xtol=xtol)\n",
    "        return 0 if result <= 1.0e-6 or call_option_market_price == 0 else result\n",
    "    except ValueError:\n",
    "        return 0\n",
    "\n",
    "def put_implied_volatility_objective_function(S, K, r, t, vol, put_option_market_price):\n",
    "    return put_option_market_price - black_scholes_put_value(S, K, r, t, vol)\n",
    "\n",
    "def put_implied_volatility(S, K, r, t, put_option_market_price, a=-2.0, b=2.0, xtol=1e-6):\n",
    "    _S, _K, _r, _t, _put_option_market_price = S, K, r, t, put_option_market_price\n",
    "    def fcn(vol):\n",
    "        return put_implied_volatility_objective_function(_S, _K, _r, _t, vol, _put_option_market_price)\n",
    "    try:\n",
    "        result = brentq(fcn, a=a, b=b, xtol=xtol)\n",
    "        return 0 if result <= 1.0e-6 or put_option_market_price == 0 else result\n",
    "    except ValueError:\n",
    "        return 0\n",
    "\n",
    "def call_implied_vol_mid(series):\n",
    "    S = series['Spot']\n",
    "    K = series['Strike']\n",
    "    r = series['Rf']\n",
    "    t = series['Expiration']\n",
    "    l = series['CallMid']\n",
    "    return float(globals().get('call_implied_volatility')(S, K, r, t, l))\n",
    "\n",
    "def put_implied_vol_mid(series):\n",
    "    S = series['Spot']\n",
    "    K = series['Strike']\n",
    "    r = series['Rf']\n",
    "    t = series['Expiration']\n",
    "    l = series['PutMid']\n",
    "    return float(globals().get('put_implied_volatility')(S, K, r, t, l))\n",
    "\n",
    "db = pd.read_hdf(\"optiondata.h5\")\n",
    "db = db.drop('index',axis=1)\n",
    "db['Now'] = pd.to_datetime(db['Now'])\n",
    "db['Maturity'] = pd.to_datetime(db['Maturity'])\n",
    "db[15:20]"
   ]
  },
  {
   "cell_type": "code",
   "execution_count": null,
   "metadata": {},
   "outputs": [],
   "source": [
    "# Let's forget the already calculated implied volatility\n",
    "db = db.drop('CallImpVol',axis=1)\n",
    "db = db.drop('PutImpVol',axis=1)\n",
    "# And now recalculate it, this is just a few minutes of market data\n",
    "# Imagine what is like working with several months of data\n",
    "db['CallImpVol'] = db.apply(call_implied_vol_mid, axis=1)\n",
    "db['PutImpVol'] = db.apply(put_implied_vol_mid, axis=1)"
   ]
  },
  {
   "cell_type": "code",
   "execution_count": null,
   "metadata": {},
   "outputs": [],
   "source": [
    "# Selecting closest maturity and cleaning data\n",
    "M0 = db[db['Maturity'] == '2018-05-18 17:30:00']\n",
    "M0[M0['CallImpVol'] < 0.001] = 0\n",
    "M0[M0['PutImpVol'] < 0.001] = 0\n",
    "M0 = M0.loc[(M0!=0).any(1)]\n",
    "M0 = M0.reset_index().drop('index',axis=1)\n",
    "M0['Moneyness'] = abs(M0['Strike']/M0['Spot'])"
   ]
  },
  {
   "cell_type": "code",
   "execution_count": null,
   "metadata": {},
   "outputs": [],
   "source": [
    "fig = plt.figure(figsize=(9,6))\n",
    "ax = fig.gca(projection='3d')\n",
    "ax.plot_trisurf(M0['Moneyness'], M0['Expiration'], M0['CallImpVol'], cmap=cm.plasma, linewidth=0.1)\n",
    "\n",
    "ax.set_xlabel('Moneyness')\n",
    "ax.set_ylabel('Time to Expire')\n",
    "ax.set_zlabel('Implied Volatility')\n",
    "\n",
    "ax.dist=12\n",
    "ax.view_init(30, 112.5)\n",
    "plt.title('Intraday Call Implied Volatility Smile')\n",
    "plt.show()"
   ]
  },
  {
   "cell_type": "code",
   "execution_count": null,
   "metadata": {},
   "outputs": [],
   "source": [
    "fig = plt.figure(figsize=(9,6))\n",
    "ax = fig.gca(projection='3d')\n",
    "ax.plot_trisurf(M0['Moneyness'], M0['Expiration'], M0['PutImpVol'], cmap=cm.plasma, linewidth=0.1)\n",
    "\n",
    "ax.set_xlabel('Moneyness')\n",
    "ax.set_ylabel('Time to Expire')\n",
    "ax.set_zlabel('Implied Volatility')\n",
    "\n",
    "ax.dist=12\n",
    "ax.view_init(30, 112.5)\n",
    "plt.title('Intraday Put Implied Volatility Smile')\n",
    "plt.show()"
   ]
  },
  {
   "cell_type": "code",
   "execution_count": null,
   "metadata": {},
   "outputs": [],
   "source": [
    "# Everything looks good despite being a short sample of real market data\n",
    "# Now lets take a peak at all maturities at a given moment\n",
    "Snapshot = db[db['Now'] == '2018-04-17 14:30:00']\n",
    "Snapshot[Snapshot['CallImpVol'] < 0.001] = 0\n",
    "Snapshot = Snapshot.loc[(Snapshot!=0).any(1)]\n",
    "Snapshot = Snapshot.reset_index().drop('index',axis=1)\n",
    "Snapshot['Moneyness'] = abs(Snapshot['Strike']/Snapshot['Spot'])"
   ]
  },
  {
   "cell_type": "code",
   "execution_count": null,
   "metadata": {},
   "outputs": [],
   "source": [
    "fig = plt.figure(figsize=(9,6))\n",
    "ax = fig.gca(projection='3d')\n",
    "ax.plot_trisurf(Snapshot['Moneyness'], Snapshot['Expiration'], Snapshot['CallImpVol'],cmap=cm.plasma, linewidth=0.1)\n",
    "\n",
    "ax.set_xlabel('Moneyness')\n",
    "ax.set_ylabel('Time to Expire')\n",
    "ax.set_zlabel('Implied Volatility')\n",
    "\n",
    "ax.dist=12\n",
    "ax.view_init(30, 240)\n",
    "plt.title('Call Implied Volatility Surface at 2018-04-17 14:30:00')\n",
    "plt.show()"
   ]
  },
  {
   "cell_type": "code",
   "execution_count": null,
   "metadata": {},
   "outputs": [],
   "source": [
    "# And now for the puts\n",
    "Snapshot = db[db['Now'] == '2018-04-17 14:30:00']\n",
    "Snapshot[Snapshot['PutImpVol'] < 0.001] = 0\n",
    "Snapshot = Snapshot.loc[(Snapshot!=0).any(1)]\n",
    "Snapshot = Snapshot.reset_index().drop('index',axis=1)\n",
    "Snapshot['Moneyness'] = abs(Snapshot['Strike']/Snapshot['Spot'])"
   ]
  },
  {
   "cell_type": "code",
   "execution_count": null,
   "metadata": {
    "scrolled": false
   },
   "outputs": [],
   "source": [
    "fig = plt.figure(figsize=(9,6))\n",
    "ax = fig.gca(projection='3d')\n",
    "ax.plot_trisurf(Snapshot['Moneyness'], Snapshot['Expiration'], Snapshot['PutImpVol'],cmap=cm.plasma, linewidth=0.1)\n",
    "\n",
    "ax.set_xlabel('Moneyness')\n",
    "ax.set_ylabel('Time to Expire')\n",
    "ax.set_zlabel('Implied Volatility')\n",
    "\n",
    "ax.dist=12\n",
    "ax.view_init(30, 60)\n",
    "plt.title('Put Implied Volatility Surface at 2018-04-17 14:30:00')\n",
    "plt.show()"
   ]
  },
  {
   "cell_type": "markdown",
   "metadata": {},
   "source": [
    "So what's the purpose of visualizing all this data?\n",
    "\n",
    "To understand what we are attempting to do, implied volatility modelling\n",
    "consists in attempting to describing the behaviour of the implied volatility surface (or just the volatility smile of a given maturity) throughout time with the smallest prediction error possible (or at least in a way doesn't make us lose money)"
   ]
  },
  {
   "cell_type": "code",
   "execution_count": null,
   "metadata": {},
   "outputs": [],
   "source": []
  }
 ],
 "metadata": {
  "kernelspec": {
   "display_name": "Python 3",
   "language": "python",
   "name": "python3"
  },
  "language_info": {
   "codemirror_mode": {
    "name": "ipython",
    "version": 3
   },
   "file_extension": ".py",
   "mimetype": "text/x-python",
   "name": "python",
   "nbconvert_exporter": "python",
   "pygments_lexer": "ipython3",
   "version": "3.7.0"
  }
 },
 "nbformat": 4,
 "nbformat_minor": 2
}
